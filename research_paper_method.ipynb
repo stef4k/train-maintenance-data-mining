{
 "cells": [
  {
   "cell_type": "markdown",
   "metadata": {
    "vscode": {
     "languageId": "plaintext"
    }
   },
   "source": [
    "# Paper approach\n",
    "This notebook implements the method described in the research paper. The approach involves two main stages:\n",
    "\n",
    "Feature Engineering:\n",
    "\n",
    "Filtering features:\n",
    "Selecting the most informative events based on a relevance metric.\n",
    "Extracting sets of features: Mining recurring sets of events using an estimator of the Longest Common Subsequence (LCSS) algorithm.\n",
    "\n",
    "Classification:\n",
    "Building a classifier based on Naive Bayes, (the time-windows and classifiers for each time-window were not implemented since it was advised to put more effort in our own model implementations)."
   ]
  },
  {
   "cell_type": "code",
   "execution_count": 99,
   "metadata": {
    "vscode": {
     "languageId": "plaintext"
    }
   },
   "outputs": [],
   "source": [
    "import pandas as pd\n",
    "import numpy as np\n",
    "import ast\n",
    "from collections import Counter\n",
    "from itertools import combinations\n",
    "from sklearn.model_selection import StratifiedKFold, cross_val_score\n",
    "from sklearn.naive_bayes import MultinomialNB\n",
    "from sklearn.metrics import f1_score, classification_report\n",
    "from tqdm import tqdm\n",
    "from mlxtend.preprocessing import TransactionEncoder\n",
    "from mlxtend.frequent_patterns import fpgrowth\n",
    "from sklearn.metrics import confusion_matrix, precision_score, recall_score\n",
    "import matplotlib.pyplot as plt\n",
    "import seaborn as sns"
   ]
  },
  {
   "cell_type": "markdown",
   "metadata": {},
   "source": [
    "Loading data:"
   ]
  },
  {
   "cell_type": "code",
   "execution_count": 4,
   "metadata": {
    "scrolled": true
   },
   "outputs": [
    {
     "data": {
      "text/html": [
       "<div>\n",
       "<style scoped>\n",
       "    .dataframe tbody tr th:only-of-type {\n",
       "        vertical-align: middle;\n",
       "    }\n",
       "\n",
       "    .dataframe tbody tr th {\n",
       "        vertical-align: top;\n",
       "    }\n",
       "\n",
       "    .dataframe thead th {\n",
       "        text-align: right;\n",
       "    }\n",
       "</style>\n",
       "<table border=\"1\" class=\"dataframe\">\n",
       "  <thead>\n",
       "    <tr style=\"text-align: right;\">\n",
       "      <th></th>\n",
       "      <th>incident_id</th>\n",
       "      <th>vehicles_sequence</th>\n",
       "      <th>events_sequence</th>\n",
       "      <th>seconds_to_incident_sequence</th>\n",
       "      <th>approx_lat</th>\n",
       "      <th>approx_lon</th>\n",
       "      <th>train_kph_sequence</th>\n",
       "      <th>dj_ac_state_sequence</th>\n",
       "      <th>dj_dc_state_sequence</th>\n",
       "      <th>incident_type</th>\n",
       "    </tr>\n",
       "  </thead>\n",
       "  <tbody>\n",
       "    <tr>\n",
       "      <th>0</th>\n",
       "      <td>4432881</td>\n",
       "      <td>[609, 609, 609, 609, 609, 609, 609, 609, 609, ...</td>\n",
       "      <td>[2744, 4004, 2852, 4110, 2854, 4396, 1132, 414...</td>\n",
       "      <td>[-5510, -5510, -5507, -5507, -5506, -5506, -55...</td>\n",
       "      <td>50.876601</td>\n",
       "      <td>4.718143</td>\n",
       "      <td>[0.0, 0.0, 0.0, 0.0, 0.0, 0.0, 0.0, 0.0, 0.0, ...</td>\n",
       "      <td>[False, False, False, False, False, False, Fal...</td>\n",
       "      <td>[False, False, False, False, False, False, Fal...</td>\n",
       "      <td>4</td>\n",
       "    </tr>\n",
       "    <tr>\n",
       "      <th>1</th>\n",
       "      <td>4432943</td>\n",
       "      <td>[526, 526, 526, 526, 526, 526, 526, 526, 526, ...</td>\n",
       "      <td>[2744, 4148, 4394, 1566, 1570, 4396, 3634, 412...</td>\n",
       "      <td>[-8573, -8573, -8032, -8032, -8032, -7859, -61...</td>\n",
       "      <td>51.037435</td>\n",
       "      <td>4.431218</td>\n",
       "      <td>[0.0, 0.0, 0.0, 0.0, 0.0, 0.0, 0.0, 0.0, 29.1,...</td>\n",
       "      <td>[False, False, False, False, False, False, Fal...</td>\n",
       "      <td>[True, True, True, True, True, True, True, Tru...</td>\n",
       "      <td>13</td>\n",
       "    </tr>\n",
       "  </tbody>\n",
       "</table>\n",
       "</div>"
      ],
      "text/plain": [
       "   incident_id                                  vehicles_sequence  \\\n",
       "0      4432881  [609, 609, 609, 609, 609, 609, 609, 609, 609, ...   \n",
       "1      4432943  [526, 526, 526, 526, 526, 526, 526, 526, 526, ...   \n",
       "\n",
       "                                     events_sequence  \\\n",
       "0  [2744, 4004, 2852, 4110, 2854, 4396, 1132, 414...   \n",
       "1  [2744, 4148, 4394, 1566, 1570, 4396, 3634, 412...   \n",
       "\n",
       "                        seconds_to_incident_sequence  approx_lat  approx_lon  \\\n",
       "0  [-5510, -5510, -5507, -5507, -5506, -5506, -55...   50.876601    4.718143   \n",
       "1  [-8573, -8573, -8032, -8032, -8032, -7859, -61...   51.037435    4.431218   \n",
       "\n",
       "                                  train_kph_sequence  \\\n",
       "0  [0.0, 0.0, 0.0, 0.0, 0.0, 0.0, 0.0, 0.0, 0.0, ...   \n",
       "1  [0.0, 0.0, 0.0, 0.0, 0.0, 0.0, 0.0, 0.0, 29.1,...   \n",
       "\n",
       "                                dj_ac_state_sequence  \\\n",
       "0  [False, False, False, False, False, False, Fal...   \n",
       "1  [False, False, False, False, False, False, Fal...   \n",
       "\n",
       "                                dj_dc_state_sequence  incident_type  \n",
       "0  [False, False, False, False, False, False, Fal...              4  \n",
       "1  [True, True, True, True, True, True, True, Tru...             13  "
      ]
     },
     "execution_count": 4,
     "metadata": {},
     "output_type": "execute_result"
    }
   ],
   "source": [
    "df = pd.read_csv('sncb_data_challenge.csv', delimiter=';')\n",
    "df.head(2)"
   ]
  },
  {
   "cell_type": "markdown",
   "metadata": {},
   "source": [
    "Converting `events_sequence` and `vehicles_sequence` from string to list of ints:"
   ]
  },
  {
   "cell_type": "code",
   "execution_count": 6,
   "metadata": {},
   "outputs": [],
   "source": [
    "df['events_sequence'] = df['events_sequence'].apply(ast.literal_eval)\n",
    "df['vehicles_sequence'] = df['vehicles_sequence'].apply(ast.literal_eval)"
   ]
  },
  {
   "cell_type": "markdown",
   "metadata": {},
   "source": [
    "Next calculate total frequency of events in total and frequency of events within each class:"
   ]
  },
  {
   "cell_type": "code",
   "execution_count": 8,
   "metadata": {},
   "outputs": [],
   "source": [
    "# Total occurrences of each event across all classes\n",
    "total_event_counts = Counter()\n",
    "# Occurrences of each event within each class\n",
    "event_counts_per_class = {}\n",
    "\n",
    "for incident_type in df['incident_type'].unique():\n",
    "    event_counts_per_class[incident_type] = Counter()\n",
    "\n",
    "for idx, row in df.iterrows():\n",
    "    events = set(row['events_sequence'])  # Use set to avoid duplicate events in the same sequence\n",
    "    incident_type = row['incident_type']\n",
    "    total_event_counts.update(events)\n",
    "    event_counts_per_class[incident_type].update(events)"
   ]
  },
  {
   "cell_type": "markdown",
   "metadata": {},
   "source": [
    "r is described in the paper as: $$ r = \\frac{h_{\\text{in class}}}{h_{\\text{in all classes}}} $$ \n",
    "where ℎ is an event frequency in class or in all classes. This metric is calculated:\n"
   ]
  },
  {
   "cell_type": "code",
   "execution_count": 10,
   "metadata": {},
   "outputs": [],
   "source": [
    "relevance_metric = {}\n",
    "\n",
    "for event in total_event_counts:\n",
    "    #The maximum h_in class is used\n",
    "    max_h_in_class = max([event_counts_per_class[cls][event] for cls in event_counts_per_class])\n",
    "    h_in_all_classes = total_event_counts[event]\n",
    "    relevance_metric[event] = max_h_in_class / h_in_all_classes"
   ]
  },
  {
   "cell_type": "markdown",
   "metadata": {},
   "source": [
    "Next we can define a threshold and keep the events equal and over the threshold:"
   ]
  },
  {
   "cell_type": "code",
   "execution_count": 12,
   "metadata": {},
   "outputs": [
    {
     "name": "stdout",
     "output_type": "stream",
     "text": [
      "Number of events selected with r >= 0.5: 635\n"
     ]
    }
   ],
   "source": [
    "# Set initial threshold\n",
    "tr = 0.5\n",
    "\n",
    "selected_events = [event for event, r in relevance_metric.items() if r >= tr]\n",
    "\n",
    "print(f\"Number of events selected with r >= {tr}: {len(selected_events)}\")"
   ]
  },
  {
   "cell_type": "markdown",
   "metadata": {},
   "source": [
    "Next we separate the events in those that were not included"
   ]
  },
  {
   "cell_type": "code",
   "execution_count": 14,
   "metadata": {},
   "outputs": [],
   "source": [
    "# Events not selected\n",
    "remaining_events = [event for event in total_event_counts if event not in selected_events]\n",
    "\n",
    "# Placeholder for events that pass the OaT procedure\n",
    "additional_events = []"
   ]
  },
  {
   "cell_type": "markdown",
   "metadata": {},
   "source": [
    "A function is made to calculate the f1 score for a specific subset of the total events"
   ]
  },
  {
   "cell_type": "code",
   "execution_count": 16,
   "metadata": {},
   "outputs": [],
   "source": [
    "def evaluate_classifier(events_subset):\n",
    "    # Prepare the data\n",
    "    df['filtered_events'] = df['events_sequence'].apply(lambda x: [e for e in x if e in events_subset])\n",
    "    \n",
    "    # Convert event lists to strings for vectorization\n",
    "    df['events_str'] = df['filtered_events'].apply(lambda x: ' '.join(map(str, x)))\n",
    "    \n",
    "    # Vectorize the events\n",
    "    from sklearn.feature_extraction.text import CountVectorizer\n",
    "    vectorizer = CountVectorizer()\n",
    "    X = vectorizer.fit_transform(df['events_str'])\n",
    "    y = df['incident_type']\n",
    "    \n",
    "    # Perform stratified 4-fold cross-validation\n",
    "    skf = StratifiedKFold(n_splits=4, shuffle=True, random_state=42)\n",
    "    f1_scores = []\n",
    "    \n",
    "    for train_index, test_index in skf.split(X, y):\n",
    "        X_train, X_test = X[train_index], X[test_index]\n",
    "        y_train, y_test = y.iloc[train_index], y.iloc[test_index]\n",
    "        \n",
    "        clf = MultinomialNB()\n",
    "        clf.fit(X_train, y_train)\n",
    "        y_pred = clf.predict(X_test)\n",
    "        f1 = f1_score(y_test, y_pred, average='weighted', zero_division=0)\n",
    "        f1_scores.append(f1)\n",
    "    \n",
    "    avg_f1_score = np.mean(f1_scores)\n",
    "    return avg_f1_score"
   ]
  },
  {
   "cell_type": "markdown",
   "metadata": {},
   "source": [
    "Iterating over all events that were filtered out, find the ones that when included , lead to an average f1 score of 0.6 or greater and include them in the `current_events` which are used to make the classification"
   ]
  },
  {
   "cell_type": "code",
   "execution_count": 18,
   "metadata": {
    "scrolled": true
   },
   "outputs": [
    {
     "name": "stdout",
     "output_type": "stream",
     "text": [
      "Initial F1-score with selected events: 0.6309\n"
     ]
    },
    {
     "name": "stderr",
     "output_type": "stream",
     "text": [
      "OaT Procedure: 100%|█████████████████████████████████████████████████████████████████| 282/282 [20:53<00:00,  4.45s/it]"
     ]
    },
    {
     "name": "stdout",
     "output_type": "stream",
     "text": [
      "Final F1-score after OaT: 0.6006\n",
      "Number of additional events added: 241\n"
     ]
    },
    {
     "name": "stderr",
     "output_type": "stream",
     "text": [
      "\n"
     ]
    }
   ],
   "source": [
    "# Current set of events\n",
    "current_events = selected_events.copy()\n",
    "\n",
    "# Evaluate classifier with current events\n",
    "current_f1_score = evaluate_classifier(current_events)\n",
    "print(f\"Initial F1-score with selected events: {current_f1_score:.4f}\")\n",
    "\n",
    "# Iterate over remaining events\n",
    "for event in tqdm(remaining_events, desc='OaT Procedure'):\n",
    "    temp_events = current_events + [event]\n",
    "    f1 = evaluate_classifier(temp_events)\n",
    "    if f1 >= 0.6:\n",
    "        current_events.append(event)\n",
    "        additional_events.append(event)\n",
    "        current_f1_score = f1  # Update the current F1-score\n",
    "\n",
    "print(f\"Final F1-score after OaT: {current_f1_score:.4f}\")\n",
    "print(f\"Number of additional events added: {len(additional_events)}\")"
   ]
  },
  {
   "cell_type": "markdown",
   "metadata": {},
   "source": [
    "Count total event frequencies and filter out extremely rare events:"
   ]
  },
  {
   "cell_type": "code",
   "execution_count": 20,
   "metadata": {},
   "outputs": [],
   "source": [
    "# Count event frequencies\n",
    "event_counts = Counter([event for seq in df['events_sequence'] for event in seq])\n",
    "\n",
    "# Define a minimum frequency threshold\n",
    "min_event_frequency = 10  # Adjust based on dataset\n",
    "\n",
    "# Filter out rare events\n",
    "frequent_events = set([event for event, count in event_counts.items() if count >= min_event_frequency])\n",
    "\n",
    "# Update events_sequence by keeping only frequent events\n",
    "df['filtered_events_sequence'] = df['events_sequence'].apply(lambda seq: [event for event in seq if event in frequent_events])"
   ]
  },
  {
   "cell_type": "markdown",
   "metadata": {},
   "source": [
    "Prepare the data for frequent itemset mining:"
   ]
  },
  {
   "cell_type": "code",
   "execution_count": 22,
   "metadata": {},
   "outputs": [],
   "source": [
    "transactions = df['filtered_events_sequence'].tolist()\n",
    "\n",
    "# Remove empty transactions\n",
    "transactions = [t for t in transactions if t]\n",
    "\n",
    "# Use TransactionEncoder\n",
    "te = TransactionEncoder()\n",
    "te_ary = te.fit(transactions).transform(transactions)\n",
    "df_te = pd.DataFrame(te_ary, columns=te.columns_)"
   ]
  },
  {
   "cell_type": "markdown",
   "metadata": {},
   "source": [
    "Next we calculate the most frequent sequences using fpgrothw algorithm. However, due to huge cost and processing times, `max_length` is set to 2.\n",
    "Of course, the results will not be optimal, however, it is possible to run the notebook in our laptops"
   ]
  },
  {
   "cell_type": "code",
   "execution_count": 24,
   "metadata": {},
   "outputs": [
    {
     "name": "stdout",
     "output_type": "stream",
     "text": [
      "Number of frequent itemsets found: 5380\n"
     ]
    },
    {
     "data": {
      "text/html": [
       "<div>\n",
       "<style scoped>\n",
       "    .dataframe tbody tr th:only-of-type {\n",
       "        vertical-align: middle;\n",
       "    }\n",
       "\n",
       "    .dataframe tbody tr th {\n",
       "        vertical-align: top;\n",
       "    }\n",
       "\n",
       "    .dataframe thead th {\n",
       "        text-align: right;\n",
       "    }\n",
       "</style>\n",
       "<table border=\"1\" class=\"dataframe\">\n",
       "  <thead>\n",
       "    <tr style=\"text-align: right;\">\n",
       "      <th></th>\n",
       "      <th>support</th>\n",
       "      <th>itemsets</th>\n",
       "    </tr>\n",
       "  </thead>\n",
       "  <tbody>\n",
       "    <tr>\n",
       "      <th>0</th>\n",
       "      <td>0.993076</td>\n",
       "      <td>(2708)</td>\n",
       "    </tr>\n",
       "    <tr>\n",
       "      <th>1</th>\n",
       "      <td>0.985163</td>\n",
       "      <td>(4026)</td>\n",
       "    </tr>\n",
       "    <tr>\n",
       "      <th>2</th>\n",
       "      <td>0.941642</td>\n",
       "      <td>(4066)</td>\n",
       "    </tr>\n",
       "    <tr>\n",
       "      <th>3</th>\n",
       "      <td>0.934718</td>\n",
       "      <td>(4068)</td>\n",
       "    </tr>\n",
       "    <tr>\n",
       "      <th>4</th>\n",
       "      <td>0.907023</td>\n",
       "      <td>(4148)</td>\n",
       "    </tr>\n",
       "  </tbody>\n",
       "</table>\n",
       "</div>"
      ],
      "text/plain": [
       "    support itemsets\n",
       "0  0.993076   (2708)\n",
       "1  0.985163   (4026)\n",
       "2  0.941642   (4066)\n",
       "3  0.934718   (4068)\n",
       "4  0.907023   (4148)"
      ]
     },
     "execution_count": 24,
     "metadata": {},
     "output_type": "execute_result"
    }
   ],
   "source": [
    "# Apply the FP-Growth algorithm to find frequent itemsets\n",
    "min_support = 0.05  # Adjust as needed based on dataset size\n",
    "\n",
    "frequent_itemsets = fpgrowth(df_te, min_support=min_support, use_colnames=True, max_len=2)\n",
    "\n",
    "print(f\"Number of frequent itemsets found: {len(frequent_itemsets)}\")\n",
    "frequent_itemsets.head(5)"
   ]
  },
  {
   "cell_type": "markdown",
   "metadata": {},
   "source": [
    "Next, we create the columns corresponding to each frequent sequence, checking if in a particular row the frequent sequence appers at least once:"
   ]
  },
  {
   "cell_type": "code",
   "execution_count": 26,
   "metadata": {
    "scrolled": true
   },
   "outputs": [
    {
     "data": {
      "text/html": [
       "<div>\n",
       "<style scoped>\n",
       "    .dataframe tbody tr th:only-of-type {\n",
       "        vertical-align: middle;\n",
       "    }\n",
       "\n",
       "    .dataframe tbody tr th {\n",
       "        vertical-align: top;\n",
       "    }\n",
       "\n",
       "    .dataframe thead th {\n",
       "        text-align: right;\n",
       "    }\n",
       "</style>\n",
       "<table border=\"1\" class=\"dataframe\">\n",
       "  <thead>\n",
       "    <tr style=\"text-align: right;\">\n",
       "      <th></th>\n",
       "      <th>incident_id</th>\n",
       "      <th>vehicles_sequence</th>\n",
       "      <th>events_sequence</th>\n",
       "      <th>seconds_to_incident_sequence</th>\n",
       "      <th>approx_lat</th>\n",
       "      <th>approx_lon</th>\n",
       "      <th>train_kph_sequence</th>\n",
       "      <th>dj_ac_state_sequence</th>\n",
       "      <th>dj_dc_state_sequence</th>\n",
       "      <th>incident_type</th>\n",
       "      <th>...</th>\n",
       "      <th>itemset_5370</th>\n",
       "      <th>itemset_5371</th>\n",
       "      <th>itemset_5372</th>\n",
       "      <th>itemset_5373</th>\n",
       "      <th>itemset_5374</th>\n",
       "      <th>itemset_5375</th>\n",
       "      <th>itemset_5376</th>\n",
       "      <th>itemset_5377</th>\n",
       "      <th>itemset_5378</th>\n",
       "      <th>itemset_5379</th>\n",
       "    </tr>\n",
       "  </thead>\n",
       "  <tbody>\n",
       "    <tr>\n",
       "      <th>0</th>\n",
       "      <td>4432881</td>\n",
       "      <td>[609, 609, 609, 609, 609, 609, 609, 609, 609, ...</td>\n",
       "      <td>[2744, 4004, 2852, 4110, 2854, 4396, 1132, 414...</td>\n",
       "      <td>[-5510, -5510, -5507, -5507, -5506, -5506, -55...</td>\n",
       "      <td>50.876601</td>\n",
       "      <td>4.718143</td>\n",
       "      <td>[0.0, 0.0, 0.0, 0.0, 0.0, 0.0, 0.0, 0.0, 0.0, ...</td>\n",
       "      <td>[False, False, False, False, False, False, Fal...</td>\n",
       "      <td>[False, False, False, False, False, False, Fal...</td>\n",
       "      <td>4</td>\n",
       "      <td>...</td>\n",
       "      <td>0</td>\n",
       "      <td>0</td>\n",
       "      <td>0</td>\n",
       "      <td>0</td>\n",
       "      <td>0</td>\n",
       "      <td>0</td>\n",
       "      <td>0</td>\n",
       "      <td>0</td>\n",
       "      <td>0</td>\n",
       "      <td>0</td>\n",
       "    </tr>\n",
       "    <tr>\n",
       "      <th>1</th>\n",
       "      <td>4432943</td>\n",
       "      <td>[526, 526, 526, 526, 526, 526, 526, 526, 526, ...</td>\n",
       "      <td>[2744, 4148, 4394, 1566, 1570, 4396, 3634, 412...</td>\n",
       "      <td>[-8573, -8573, -8032, -8032, -8032, -7859, -61...</td>\n",
       "      <td>51.037435</td>\n",
       "      <td>4.431218</td>\n",
       "      <td>[0.0, 0.0, 0.0, 0.0, 0.0, 0.0, 0.0, 0.0, 29.1,...</td>\n",
       "      <td>[False, False, False, False, False, False, Fal...</td>\n",
       "      <td>[True, True, True, True, True, True, True, Tru...</td>\n",
       "      <td>13</td>\n",
       "      <td>...</td>\n",
       "      <td>0</td>\n",
       "      <td>0</td>\n",
       "      <td>0</td>\n",
       "      <td>0</td>\n",
       "      <td>0</td>\n",
       "      <td>0</td>\n",
       "      <td>0</td>\n",
       "      <td>0</td>\n",
       "      <td>0</td>\n",
       "      <td>0</td>\n",
       "    </tr>\n",
       "    <tr>\n",
       "      <th>2</th>\n",
       "      <td>4432955</td>\n",
       "      <td>[592, 592, 592, 592, 592, 592, 592, 592, 592, ...</td>\n",
       "      <td>[4394, 1566, 1570, 4114, 4168, 4168, 4156, 406...</td>\n",
       "      <td>[-12291, -12291, -12291, -10932, -10932, -1091...</td>\n",
       "      <td>50.864083</td>\n",
       "      <td>4.162115</td>\n",
       "      <td>[0.0, 0.0, 0.0, 0.0, 0.0, 0.0, 0.0, 0.0, 0.0, ...</td>\n",
       "      <td>[False, False, False, False, False, False, Fal...</td>\n",
       "      <td>[True, True, True, True, True, False, True, Tr...</td>\n",
       "      <td>14</td>\n",
       "      <td>...</td>\n",
       "      <td>0</td>\n",
       "      <td>0</td>\n",
       "      <td>0</td>\n",
       "      <td>0</td>\n",
       "      <td>0</td>\n",
       "      <td>0</td>\n",
       "      <td>0</td>\n",
       "      <td>0</td>\n",
       "      <td>0</td>\n",
       "      <td>0</td>\n",
       "    </tr>\n",
       "    <tr>\n",
       "      <th>3</th>\n",
       "      <td>4433021</td>\n",
       "      <td>[576, 576, 576, 576, 576, 576, 576, 576, 576, ...</td>\n",
       "      <td>[4066, 4066, 4066, 4066, 4068, 2742, 4026, 270...</td>\n",
       "      <td>[-14351, -14204, -13890, -13383, -12739, -1243...</td>\n",
       "      <td>51.183220</td>\n",
       "      <td>4.276025</td>\n",
       "      <td>[0.0, 0.0, 0.0, 0.015625, 0.0, 0.0, 0.0, 0.0, ...</td>\n",
       "      <td>[False, False, False, False, False, False, Fal...</td>\n",
       "      <td>[True, True, True, True, True, True, True, Tru...</td>\n",
       "      <td>2</td>\n",
       "      <td>...</td>\n",
       "      <td>0</td>\n",
       "      <td>0</td>\n",
       "      <td>0</td>\n",
       "      <td>0</td>\n",
       "      <td>0</td>\n",
       "      <td>0</td>\n",
       "      <td>0</td>\n",
       "      <td>0</td>\n",
       "      <td>0</td>\n",
       "      <td>0</td>\n",
       "    </tr>\n",
       "    <tr>\n",
       "      <th>4</th>\n",
       "      <td>4433129</td>\n",
       "      <td>[634, 634, 634, 634, 634, 634, 634, 634, 634, ...</td>\n",
       "      <td>[4002, 4032, 4028, 2852, 4026, 4110, 2742, 285...</td>\n",
       "      <td>[-224, -224, -223, -222, -222, -222, -220, -22...</td>\n",
       "      <td>50.818727</td>\n",
       "      <td>3.253601</td>\n",
       "      <td>[0.0, 0.0, 0.0, 0.0, 0.0, 0.0, 0.0, 0.0, 0.0, ...</td>\n",
       "      <td>[False, False, False, False, False, False, Fal...</td>\n",
       "      <td>[False, False, False, False, False, False, Fal...</td>\n",
       "      <td>14</td>\n",
       "      <td>...</td>\n",
       "      <td>0</td>\n",
       "      <td>0</td>\n",
       "      <td>0</td>\n",
       "      <td>0</td>\n",
       "      <td>0</td>\n",
       "      <td>0</td>\n",
       "      <td>0</td>\n",
       "      <td>0</td>\n",
       "      <td>0</td>\n",
       "      <td>0</td>\n",
       "    </tr>\n",
       "  </tbody>\n",
       "</table>\n",
       "<p>5 rows × 5393 columns</p>\n",
       "</div>"
      ],
      "text/plain": [
       "   incident_id                                  vehicles_sequence  \\\n",
       "0      4432881  [609, 609, 609, 609, 609, 609, 609, 609, 609, ...   \n",
       "1      4432943  [526, 526, 526, 526, 526, 526, 526, 526, 526, ...   \n",
       "2      4432955  [592, 592, 592, 592, 592, 592, 592, 592, 592, ...   \n",
       "3      4433021  [576, 576, 576, 576, 576, 576, 576, 576, 576, ...   \n",
       "4      4433129  [634, 634, 634, 634, 634, 634, 634, 634, 634, ...   \n",
       "\n",
       "                                     events_sequence  \\\n",
       "0  [2744, 4004, 2852, 4110, 2854, 4396, 1132, 414...   \n",
       "1  [2744, 4148, 4394, 1566, 1570, 4396, 3634, 412...   \n",
       "2  [4394, 1566, 1570, 4114, 4168, 4168, 4156, 406...   \n",
       "3  [4066, 4066, 4066, 4066, 4068, 2742, 4026, 270...   \n",
       "4  [4002, 4032, 4028, 2852, 4026, 4110, 2742, 285...   \n",
       "\n",
       "                        seconds_to_incident_sequence  approx_lat  approx_lon  \\\n",
       "0  [-5510, -5510, -5507, -5507, -5506, -5506, -55...   50.876601    4.718143   \n",
       "1  [-8573, -8573, -8032, -8032, -8032, -7859, -61...   51.037435    4.431218   \n",
       "2  [-12291, -12291, -12291, -10932, -10932, -1091...   50.864083    4.162115   \n",
       "3  [-14351, -14204, -13890, -13383, -12739, -1243...   51.183220    4.276025   \n",
       "4  [-224, -224, -223, -222, -222, -222, -220, -22...   50.818727    3.253601   \n",
       "\n",
       "                                  train_kph_sequence  \\\n",
       "0  [0.0, 0.0, 0.0, 0.0, 0.0, 0.0, 0.0, 0.0, 0.0, ...   \n",
       "1  [0.0, 0.0, 0.0, 0.0, 0.0, 0.0, 0.0, 0.0, 29.1,...   \n",
       "2  [0.0, 0.0, 0.0, 0.0, 0.0, 0.0, 0.0, 0.0, 0.0, ...   \n",
       "3  [0.0, 0.0, 0.0, 0.015625, 0.0, 0.0, 0.0, 0.0, ...   \n",
       "4  [0.0, 0.0, 0.0, 0.0, 0.0, 0.0, 0.0, 0.0, 0.0, ...   \n",
       "\n",
       "                                dj_ac_state_sequence  \\\n",
       "0  [False, False, False, False, False, False, Fal...   \n",
       "1  [False, False, False, False, False, False, Fal...   \n",
       "2  [False, False, False, False, False, False, Fal...   \n",
       "3  [False, False, False, False, False, False, Fal...   \n",
       "4  [False, False, False, False, False, False, Fal...   \n",
       "\n",
       "                                dj_dc_state_sequence  incident_type  ...  \\\n",
       "0  [False, False, False, False, False, False, Fal...              4  ...   \n",
       "1  [True, True, True, True, True, True, True, Tru...             13  ...   \n",
       "2  [True, True, True, True, True, False, True, Tr...             14  ...   \n",
       "3  [True, True, True, True, True, True, True, Tru...              2  ...   \n",
       "4  [False, False, False, False, False, False, Fal...             14  ...   \n",
       "\n",
       "  itemset_5370 itemset_5371 itemset_5372  itemset_5373  itemset_5374  \\\n",
       "0            0            0            0             0             0   \n",
       "1            0            0            0             0             0   \n",
       "2            0            0            0             0             0   \n",
       "3            0            0            0             0             0   \n",
       "4            0            0            0             0             0   \n",
       "\n",
       "   itemset_5375  itemset_5376  itemset_5377  itemset_5378  itemset_5379  \n",
       "0             0             0             0             0             0  \n",
       "1             0             0             0             0             0  \n",
       "2             0             0             0             0             0  \n",
       "3             0             0             0             0             0  \n",
       "4             0             0             0             0             0  \n",
       "\n",
       "[5 rows x 5393 columns]"
      ]
     },
     "execution_count": 26,
     "metadata": {},
     "output_type": "execute_result"
    }
   ],
   "source": [
    "# Convert frequent itemsets into a list of tuples\n",
    "frequent_sets = [tuple(tup) for tup in frequent_itemsets['itemsets']]\n",
    "\n",
    "# Function that checks if the exact sequence of events from the tuple is found in the list\n",
    "def is_tuple_in_list(seq, lst):\n",
    "    # Convert the tuple to a list to make it easier to check for a subsequence\n",
    "    seq_list = list(seq)\n",
    "    # Iterate through the list and check if the subsequence appears\n",
    "    for i in range(len(lst) - len(seq_list) + 1):\n",
    "        if lst[i:i+len(seq_list)] == seq_list:\n",
    "            return 1\n",
    "    return 0\n",
    "\n",
    "# Create new features for each frequent itemset in one batch\n",
    "new_columns = {\n",
    "    f'itemset_{idx}': df['events_sequence'].apply(lambda x: int(is_tuple_in_list(itemset, x)))\n",
    "    for idx, itemset in enumerate(frequent_sets)\n",
    "}\n",
    "\n",
    "# Add all new features to the DataFrame at once\n",
    "df = pd.concat([df, pd.DataFrame(new_columns)], axis=1)\n",
    "\n",
    "df.head(5)"
   ]
  },
  {
   "cell_type": "markdown",
   "metadata": {},
   "source": [
    "# Model evaluation\n",
    "Now we can evaluate the model on the f1 metric:"
   ]
  },
  {
   "cell_type": "code",
   "execution_count": 28,
   "metadata": {},
   "outputs": [],
   "source": [
    "from sklearn.metrics import classification_report\n",
    "from sklearn.model_selection import train_test_split\n",
    "from sklearn.model_selection import cross_val_score, LeaveOneOut\n",
    "from imblearn.over_sampling import SMOTE\n",
    "from imblearn.pipeline import Pipeline\n",
    "from sklearn.metrics import make_scorer, f1_score\n",
    "from sklearn.dummy import DummyClassifier\n",
    "from sklearn.model_selection import GridSearchCV"
   ]
  },
  {
   "cell_type": "markdown",
   "metadata": {},
   "source": [
    "Custom scoring function that allows zero devision and concerns the weighted f1 score:"
   ]
  },
  {
   "cell_type": "code",
   "execution_count": 30,
   "metadata": {},
   "outputs": [],
   "source": [
    "# Create a custom scoring function with zero_division parameter\n",
    "def custom_f1_score(y_true, y_pred):\n",
    "    return f1_score(y_true, y_pred, average='weighted', zero_division=0)\n",
    "\n",
    "# Wrap the custom scoring function using make_scorer\n",
    "f1_scorer = make_scorer(custom_f1_score)"
   ]
  },
  {
   "cell_type": "markdown",
   "metadata": {},
   "source": [
    "Splitting the data into the samples and the target"
   ]
  },
  {
   "cell_type": "code",
   "execution_count": 32,
   "metadata": {
    "scrolled": true
   },
   "outputs": [
    {
     "data": {
      "text/html": [
       "<div>\n",
       "<style scoped>\n",
       "    .dataframe tbody tr th:only-of-type {\n",
       "        vertical-align: middle;\n",
       "    }\n",
       "\n",
       "    .dataframe tbody tr th {\n",
       "        vertical-align: top;\n",
       "    }\n",
       "\n",
       "    .dataframe thead th {\n",
       "        text-align: right;\n",
       "    }\n",
       "</style>\n",
       "<table border=\"1\" class=\"dataframe\">\n",
       "  <thead>\n",
       "    <tr style=\"text-align: right;\">\n",
       "      <th></th>\n",
       "      <th>itemset_0</th>\n",
       "      <th>itemset_1</th>\n",
       "      <th>itemset_2</th>\n",
       "      <th>itemset_3</th>\n",
       "      <th>itemset_4</th>\n",
       "      <th>itemset_5</th>\n",
       "      <th>itemset_6</th>\n",
       "      <th>itemset_7</th>\n",
       "      <th>itemset_8</th>\n",
       "      <th>itemset_9</th>\n",
       "      <th>...</th>\n",
       "      <th>itemset_5370</th>\n",
       "      <th>itemset_5371</th>\n",
       "      <th>itemset_5372</th>\n",
       "      <th>itemset_5373</th>\n",
       "      <th>itemset_5374</th>\n",
       "      <th>itemset_5375</th>\n",
       "      <th>itemset_5376</th>\n",
       "      <th>itemset_5377</th>\n",
       "      <th>itemset_5378</th>\n",
       "      <th>itemset_5379</th>\n",
       "    </tr>\n",
       "  </thead>\n",
       "  <tbody>\n",
       "    <tr>\n",
       "      <th>0</th>\n",
       "      <td>1</td>\n",
       "      <td>1</td>\n",
       "      <td>1</td>\n",
       "      <td>1</td>\n",
       "      <td>1</td>\n",
       "      <td>1</td>\n",
       "      <td>1</td>\n",
       "      <td>1</td>\n",
       "      <td>1</td>\n",
       "      <td>1</td>\n",
       "      <td>...</td>\n",
       "      <td>0</td>\n",
       "      <td>0</td>\n",
       "      <td>0</td>\n",
       "      <td>0</td>\n",
       "      <td>0</td>\n",
       "      <td>0</td>\n",
       "      <td>0</td>\n",
       "      <td>0</td>\n",
       "      <td>0</td>\n",
       "      <td>0</td>\n",
       "    </tr>\n",
       "    <tr>\n",
       "      <th>1</th>\n",
       "      <td>1</td>\n",
       "      <td>1</td>\n",
       "      <td>1</td>\n",
       "      <td>1</td>\n",
       "      <td>1</td>\n",
       "      <td>1</td>\n",
       "      <td>1</td>\n",
       "      <td>1</td>\n",
       "      <td>1</td>\n",
       "      <td>0</td>\n",
       "      <td>...</td>\n",
       "      <td>0</td>\n",
       "      <td>0</td>\n",
       "      <td>0</td>\n",
       "      <td>0</td>\n",
       "      <td>0</td>\n",
       "      <td>0</td>\n",
       "      <td>0</td>\n",
       "      <td>0</td>\n",
       "      <td>0</td>\n",
       "      <td>0</td>\n",
       "    </tr>\n",
       "  </tbody>\n",
       "</table>\n",
       "<p>2 rows × 5380 columns</p>\n",
       "</div>"
      ],
      "text/plain": [
       "   itemset_0  itemset_1  itemset_2  itemset_3  itemset_4  itemset_5  \\\n",
       "0          1          1          1          1          1          1   \n",
       "1          1          1          1          1          1          1   \n",
       "\n",
       "   itemset_6  itemset_7  itemset_8  itemset_9  ...  itemset_5370  \\\n",
       "0          1          1          1          1  ...             0   \n",
       "1          1          1          1          0  ...             0   \n",
       "\n",
       "   itemset_5371  itemset_5372  itemset_5373  itemset_5374  itemset_5375  \\\n",
       "0             0             0             0             0             0   \n",
       "1             0             0             0             0             0   \n",
       "\n",
       "   itemset_5376  itemset_5377  itemset_5378  itemset_5379  \n",
       "0             0             0             0             0  \n",
       "1             0             0             0             0  \n",
       "\n",
       "[2 rows x 5380 columns]"
      ]
     },
     "execution_count": 32,
     "metadata": {},
     "output_type": "execute_result"
    }
   ],
   "source": [
    "target = df.incident_type.copy()\n",
    "class_counts = target.value_counts()\n",
    "max_class_count = max(class_counts.values)\n",
    "sampling_strategy_cross_val = {class_counts.index[i]: int(max_class_count * 0.15) + class_counts.values[i]\n",
    "                     for i in range(len(class_counts.index)) if class_counts.values[i] < max_class_count}\n",
    "X_data = df.drop(columns=['incident_id', 'vehicles_sequence', 'events_sequence',\n",
    "       'seconds_to_incident_sequence', 'approx_lat', 'approx_lon',\n",
    "       'train_kph_sequence', 'dj_ac_state_sequence', 'dj_dc_state_sequence',\n",
    "       'incident_type','filtered_events_sequence','filtered_events','events_str']).copy()\n",
    "X_data.head(2)"
   ]
  },
  {
   "cell_type": "markdown",
   "metadata": {},
   "source": [
    "Now we can use gridsearchCV to find the optimal parameters for the MultinomialNB():"
   ]
  },
  {
   "cell_type": "code",
   "execution_count": 46,
   "metadata": {
    "scrolled": true
   },
   "outputs": [
    {
     "name": "stderr",
     "output_type": "stream",
     "text": [
      "C:\\Users\\stef4\\anaconda3\\Lib\\site-packages\\sklearn\\model_selection\\_split.py:737: UserWarning: The least populated class in y has only 4 members, which is less than n_splits=5.\n",
      "  warnings.warn(\n",
      "C:\\Users\\stef4\\anaconda3\\Lib\\site-packages\\joblib\\_utils.py:38: DeprecationWarning: ast.Num is deprecated and will be removed in Python 3.14; use ast.Constant instead\n",
      "  if isinstance(node, ast.Num):  # <number>\n",
      "C:\\Users\\stef4\\anaconda3\\Lib\\site-packages\\joblib\\_utils.py:38: DeprecationWarning: ast.Num is deprecated and will be removed in Python 3.14; use ast.Constant instead\n",
      "  if isinstance(node, ast.Num):  # <number>\n",
      "C:\\Users\\stef4\\anaconda3\\Lib\\site-packages\\joblib\\_utils.py:38: DeprecationWarning: ast.Num is deprecated and will be removed in Python 3.14; use ast.Constant instead\n",
      "  if isinstance(node, ast.Num):  # <number>\n",
      "C:\\Users\\stef4\\anaconda3\\Lib\\site-packages\\joblib\\_utils.py:39: DeprecationWarning: Attribute n is deprecated and will be removed in Python 3.14; use value instead\n",
      "  return node.n\n",
      "C:\\Users\\stef4\\anaconda3\\Lib\\site-packages\\joblib\\_utils.py:38: DeprecationWarning: ast.Num is deprecated and will be removed in Python 3.14; use ast.Constant instead\n",
      "  if isinstance(node, ast.Num):  # <number>\n",
      "C:\\Users\\stef4\\anaconda3\\Lib\\site-packages\\joblib\\_utils.py:39: DeprecationWarning: Attribute n is deprecated and will be removed in Python 3.14; use value instead\n",
      "  return node.n\n"
     ]
    },
    {
     "name": "stdout",
     "output_type": "stream",
     "text": [
      "Best Parameters: {'alpha': 0.1, 'fit_prior': True}\n",
      "Best Score F1: 0.5399506186526576\n"
     ]
    }
   ],
   "source": [
    "model = MultinomialNB()\n",
    "\n",
    "param_grid = {\n",
    "    'alpha': [0.01, 0.05, 0.1, 0.5, 1.0, 1.5],\n",
    "    'fit_prior': [True, False]\n",
    "}\n",
    "\n",
    "# Cross-validation strategy set here to replicate results\n",
    "cv = StratifiedKFold(n_splits=5, shuffle=True, random_state=1)\n",
    "\n",
    "# Define GridSearchCV with the pipeline and parameter grid\n",
    "grid_search = GridSearchCV(estimator=model, param_grid=param_grid, cv=cv, scoring=f1_scorer, n_jobs=6)\n",
    "\n",
    "# Fit GridSearchCV to the data\n",
    "grid_search.fit(X_data, target)\n",
    "best_params = grid_search.best_params_\n",
    "\n",
    "# Output the best parameters and the best score\n",
    "print(\"Best Parameters:\", grid_search.best_params_)\n",
    "print(\"Best Score F1:\", grid_search.best_score_)"
   ]
  },
  {
   "cell_type": "code",
   "execution_count": 80,
   "metadata": {},
   "outputs": [
    {
     "name": "stderr",
     "output_type": "stream",
     "text": [
      "C:\\Users\\stef4\\anaconda3\\Lib\\site-packages\\sklearn\\model_selection\\_split.py:737: UserWarning: The least populated class in y has only 4 members, which is less than n_splits=5.\n",
      "  warnings.warn(\n"
     ]
    },
    {
     "name": "stdout",
     "output_type": "stream",
     "text": [
      "St Dev f1: 0.01117859157694585\n"
     ]
    }
   ],
   "source": [
    "print(\"St Dev f1:\", str(np.std(cross_val_score(grid_search.best_estimator_, X_data, target, cv=cv, scoring=f1_scorer))))"
   ]
  },
  {
   "cell_type": "markdown",
   "metadata": {},
   "source": [
    "Also accuracy:"
   ]
  },
  {
   "cell_type": "code",
   "execution_count": 72,
   "metadata": {},
   "outputs": [
    {
     "name": "stderr",
     "output_type": "stream",
     "text": [
      "C:\\Users\\stef4\\anaconda3\\Lib\\site-packages\\sklearn\\model_selection\\_split.py:737: UserWarning: The least populated class in y has only 4 members, which is less than n_splits=5.\n",
      "  warnings.warn(\n"
     ]
    },
    {
     "name": "stdout",
     "output_type": "stream",
     "text": [
      "Accuracy: 0.5568892357216018\n"
     ]
    },
    {
     "name": "stderr",
     "output_type": "stream",
     "text": [
      "C:\\Users\\stef4\\anaconda3\\Lib\\site-packages\\sklearn\\model_selection\\_split.py:737: UserWarning: The least populated class in y has only 4 members, which is less than n_splits=5.\n",
      "  warnings.warn(\n"
     ]
    },
    {
     "name": "stdout",
     "output_type": "stream",
     "text": [
      "St Dev accuracy: 0.012957183706862087\n"
     ]
    }
   ],
   "source": [
    "print(\"Accuracy:\", str(np.mean(cross_val_score(grid_search.best_estimator_, X_data, target, cv=cv, scoring='accuracy'))))\n",
    "print(\"St Dev accuracy:\", str(np.std(cross_val_score(grid_search.best_estimator_, X_data, target, cv=cv, scoring='accuracy'))))"
   ]
  },
  {
   "cell_type": "markdown",
   "metadata": {},
   "source": [
    "Next use the parameters found in gridsearch and also split the data in training and testing and create the classification report:"
   ]
  },
  {
   "cell_type": "code",
   "execution_count": 333,
   "metadata": {
    "scrolled": true
   },
   "outputs": [
    {
     "data": {
      "text/html": [
       "<style>#sk-container-id-13 {\n",
       "  /* Definition of color scheme common for light and dark mode */\n",
       "  --sklearn-color-text: black;\n",
       "  --sklearn-color-line: gray;\n",
       "  /* Definition of color scheme for unfitted estimators */\n",
       "  --sklearn-color-unfitted-level-0: #fff5e6;\n",
       "  --sklearn-color-unfitted-level-1: #f6e4d2;\n",
       "  --sklearn-color-unfitted-level-2: #ffe0b3;\n",
       "  --sklearn-color-unfitted-level-3: chocolate;\n",
       "  /* Definition of color scheme for fitted estimators */\n",
       "  --sklearn-color-fitted-level-0: #f0f8ff;\n",
       "  --sklearn-color-fitted-level-1: #d4ebff;\n",
       "  --sklearn-color-fitted-level-2: #b3dbfd;\n",
       "  --sklearn-color-fitted-level-3: cornflowerblue;\n",
       "\n",
       "  /* Specific color for light theme */\n",
       "  --sklearn-color-text-on-default-background: var(--sg-text-color, var(--theme-code-foreground, var(--jp-content-font-color1, black)));\n",
       "  --sklearn-color-background: var(--sg-background-color, var(--theme-background, var(--jp-layout-color0, white)));\n",
       "  --sklearn-color-border-box: var(--sg-text-color, var(--theme-code-foreground, var(--jp-content-font-color1, black)));\n",
       "  --sklearn-color-icon: #696969;\n",
       "\n",
       "  @media (prefers-color-scheme: dark) {\n",
       "    /* Redefinition of color scheme for dark theme */\n",
       "    --sklearn-color-text-on-default-background: var(--sg-text-color, var(--theme-code-foreground, var(--jp-content-font-color1, white)));\n",
       "    --sklearn-color-background: var(--sg-background-color, var(--theme-background, var(--jp-layout-color0, #111)));\n",
       "    --sklearn-color-border-box: var(--sg-text-color, var(--theme-code-foreground, var(--jp-content-font-color1, white)));\n",
       "    --sklearn-color-icon: #878787;\n",
       "  }\n",
       "}\n",
       "\n",
       "#sk-container-id-13 {\n",
       "  color: var(--sklearn-color-text);\n",
       "}\n",
       "\n",
       "#sk-container-id-13 pre {\n",
       "  padding: 0;\n",
       "}\n",
       "\n",
       "#sk-container-id-13 input.sk-hidden--visually {\n",
       "  border: 0;\n",
       "  clip: rect(1px 1px 1px 1px);\n",
       "  clip: rect(1px, 1px, 1px, 1px);\n",
       "  height: 1px;\n",
       "  margin: -1px;\n",
       "  overflow: hidden;\n",
       "  padding: 0;\n",
       "  position: absolute;\n",
       "  width: 1px;\n",
       "}\n",
       "\n",
       "#sk-container-id-13 div.sk-dashed-wrapped {\n",
       "  border: 1px dashed var(--sklearn-color-line);\n",
       "  margin: 0 0.4em 0.5em 0.4em;\n",
       "  box-sizing: border-box;\n",
       "  padding-bottom: 0.4em;\n",
       "  background-color: var(--sklearn-color-background);\n",
       "}\n",
       "\n",
       "#sk-container-id-13 div.sk-container {\n",
       "  /* jupyter's `normalize.less` sets `[hidden] { display: none; }`\n",
       "     but bootstrap.min.css set `[hidden] { display: none !important; }`\n",
       "     so we also need the `!important` here to be able to override the\n",
       "     default hidden behavior on the sphinx rendered scikit-learn.org.\n",
       "     See: https://github.com/scikit-learn/scikit-learn/issues/21755 */\n",
       "  display: inline-block !important;\n",
       "  position: relative;\n",
       "}\n",
       "\n",
       "#sk-container-id-13 div.sk-text-repr-fallback {\n",
       "  display: none;\n",
       "}\n",
       "\n",
       "div.sk-parallel-item,\n",
       "div.sk-serial,\n",
       "div.sk-item {\n",
       "  /* draw centered vertical line to link estimators */\n",
       "  background-image: linear-gradient(var(--sklearn-color-text-on-default-background), var(--sklearn-color-text-on-default-background));\n",
       "  background-size: 2px 100%;\n",
       "  background-repeat: no-repeat;\n",
       "  background-position: center center;\n",
       "}\n",
       "\n",
       "/* Parallel-specific style estimator block */\n",
       "\n",
       "#sk-container-id-13 div.sk-parallel-item::after {\n",
       "  content: \"\";\n",
       "  width: 100%;\n",
       "  border-bottom: 2px solid var(--sklearn-color-text-on-default-background);\n",
       "  flex-grow: 1;\n",
       "}\n",
       "\n",
       "#sk-container-id-13 div.sk-parallel {\n",
       "  display: flex;\n",
       "  align-items: stretch;\n",
       "  justify-content: center;\n",
       "  background-color: var(--sklearn-color-background);\n",
       "  position: relative;\n",
       "}\n",
       "\n",
       "#sk-container-id-13 div.sk-parallel-item {\n",
       "  display: flex;\n",
       "  flex-direction: column;\n",
       "}\n",
       "\n",
       "#sk-container-id-13 div.sk-parallel-item:first-child::after {\n",
       "  align-self: flex-end;\n",
       "  width: 50%;\n",
       "}\n",
       "\n",
       "#sk-container-id-13 div.sk-parallel-item:last-child::after {\n",
       "  align-self: flex-start;\n",
       "  width: 50%;\n",
       "}\n",
       "\n",
       "#sk-container-id-13 div.sk-parallel-item:only-child::after {\n",
       "  width: 0;\n",
       "}\n",
       "\n",
       "/* Serial-specific style estimator block */\n",
       "\n",
       "#sk-container-id-13 div.sk-serial {\n",
       "  display: flex;\n",
       "  flex-direction: column;\n",
       "  align-items: center;\n",
       "  background-color: var(--sklearn-color-background);\n",
       "  padding-right: 1em;\n",
       "  padding-left: 1em;\n",
       "}\n",
       "\n",
       "\n",
       "/* Toggleable style: style used for estimator/Pipeline/ColumnTransformer box that is\n",
       "clickable and can be expanded/collapsed.\n",
       "- Pipeline and ColumnTransformer use this feature and define the default style\n",
       "- Estimators will overwrite some part of the style using the `sk-estimator` class\n",
       "*/\n",
       "\n",
       "/* Pipeline and ColumnTransformer style (default) */\n",
       "\n",
       "#sk-container-id-13 div.sk-toggleable {\n",
       "  /* Default theme specific background. It is overwritten whether we have a\n",
       "  specific estimator or a Pipeline/ColumnTransformer */\n",
       "  background-color: var(--sklearn-color-background);\n",
       "}\n",
       "\n",
       "/* Toggleable label */\n",
       "#sk-container-id-13 label.sk-toggleable__label {\n",
       "  cursor: pointer;\n",
       "  display: block;\n",
       "  width: 100%;\n",
       "  margin-bottom: 0;\n",
       "  padding: 0.5em;\n",
       "  box-sizing: border-box;\n",
       "  text-align: center;\n",
       "}\n",
       "\n",
       "#sk-container-id-13 label.sk-toggleable__label-arrow:before {\n",
       "  /* Arrow on the left of the label */\n",
       "  content: \"▸\";\n",
       "  float: left;\n",
       "  margin-right: 0.25em;\n",
       "  color: var(--sklearn-color-icon);\n",
       "}\n",
       "\n",
       "#sk-container-id-13 label.sk-toggleable__label-arrow:hover:before {\n",
       "  color: var(--sklearn-color-text);\n",
       "}\n",
       "\n",
       "/* Toggleable content - dropdown */\n",
       "\n",
       "#sk-container-id-13 div.sk-toggleable__content {\n",
       "  max-height: 0;\n",
       "  max-width: 0;\n",
       "  overflow: hidden;\n",
       "  text-align: left;\n",
       "  /* unfitted */\n",
       "  background-color: var(--sklearn-color-unfitted-level-0);\n",
       "}\n",
       "\n",
       "#sk-container-id-13 div.sk-toggleable__content.fitted {\n",
       "  /* fitted */\n",
       "  background-color: var(--sklearn-color-fitted-level-0);\n",
       "}\n",
       "\n",
       "#sk-container-id-13 div.sk-toggleable__content pre {\n",
       "  margin: 0.2em;\n",
       "  border-radius: 0.25em;\n",
       "  color: var(--sklearn-color-text);\n",
       "  /* unfitted */\n",
       "  background-color: var(--sklearn-color-unfitted-level-0);\n",
       "}\n",
       "\n",
       "#sk-container-id-13 div.sk-toggleable__content.fitted pre {\n",
       "  /* unfitted */\n",
       "  background-color: var(--sklearn-color-fitted-level-0);\n",
       "}\n",
       "\n",
       "#sk-container-id-13 input.sk-toggleable__control:checked~div.sk-toggleable__content {\n",
       "  /* Expand drop-down */\n",
       "  max-height: 200px;\n",
       "  max-width: 100%;\n",
       "  overflow: auto;\n",
       "}\n",
       "\n",
       "#sk-container-id-13 input.sk-toggleable__control:checked~label.sk-toggleable__label-arrow:before {\n",
       "  content: \"▾\";\n",
       "}\n",
       "\n",
       "/* Pipeline/ColumnTransformer-specific style */\n",
       "\n",
       "#sk-container-id-13 div.sk-label input.sk-toggleable__control:checked~label.sk-toggleable__label {\n",
       "  color: var(--sklearn-color-text);\n",
       "  background-color: var(--sklearn-color-unfitted-level-2);\n",
       "}\n",
       "\n",
       "#sk-container-id-13 div.sk-label.fitted input.sk-toggleable__control:checked~label.sk-toggleable__label {\n",
       "  background-color: var(--sklearn-color-fitted-level-2);\n",
       "}\n",
       "\n",
       "/* Estimator-specific style */\n",
       "\n",
       "/* Colorize estimator box */\n",
       "#sk-container-id-13 div.sk-estimator input.sk-toggleable__control:checked~label.sk-toggleable__label {\n",
       "  /* unfitted */\n",
       "  background-color: var(--sklearn-color-unfitted-level-2);\n",
       "}\n",
       "\n",
       "#sk-container-id-13 div.sk-estimator.fitted input.sk-toggleable__control:checked~label.sk-toggleable__label {\n",
       "  /* fitted */\n",
       "  background-color: var(--sklearn-color-fitted-level-2);\n",
       "}\n",
       "\n",
       "#sk-container-id-13 div.sk-label label.sk-toggleable__label,\n",
       "#sk-container-id-13 div.sk-label label {\n",
       "  /* The background is the default theme color */\n",
       "  color: var(--sklearn-color-text-on-default-background);\n",
       "}\n",
       "\n",
       "/* On hover, darken the color of the background */\n",
       "#sk-container-id-13 div.sk-label:hover label.sk-toggleable__label {\n",
       "  color: var(--sklearn-color-text);\n",
       "  background-color: var(--sklearn-color-unfitted-level-2);\n",
       "}\n",
       "\n",
       "/* Label box, darken color on hover, fitted */\n",
       "#sk-container-id-13 div.sk-label.fitted:hover label.sk-toggleable__label.fitted {\n",
       "  color: var(--sklearn-color-text);\n",
       "  background-color: var(--sklearn-color-fitted-level-2);\n",
       "}\n",
       "\n",
       "/* Estimator label */\n",
       "\n",
       "#sk-container-id-13 div.sk-label label {\n",
       "  font-family: monospace;\n",
       "  font-weight: bold;\n",
       "  display: inline-block;\n",
       "  line-height: 1.2em;\n",
       "}\n",
       "\n",
       "#sk-container-id-13 div.sk-label-container {\n",
       "  text-align: center;\n",
       "}\n",
       "\n",
       "/* Estimator-specific */\n",
       "#sk-container-id-13 div.sk-estimator {\n",
       "  font-family: monospace;\n",
       "  border: 1px dotted var(--sklearn-color-border-box);\n",
       "  border-radius: 0.25em;\n",
       "  box-sizing: border-box;\n",
       "  margin-bottom: 0.5em;\n",
       "  /* unfitted */\n",
       "  background-color: var(--sklearn-color-unfitted-level-0);\n",
       "}\n",
       "\n",
       "#sk-container-id-13 div.sk-estimator.fitted {\n",
       "  /* fitted */\n",
       "  background-color: var(--sklearn-color-fitted-level-0);\n",
       "}\n",
       "\n",
       "/* on hover */\n",
       "#sk-container-id-13 div.sk-estimator:hover {\n",
       "  /* unfitted */\n",
       "  background-color: var(--sklearn-color-unfitted-level-2);\n",
       "}\n",
       "\n",
       "#sk-container-id-13 div.sk-estimator.fitted:hover {\n",
       "  /* fitted */\n",
       "  background-color: var(--sklearn-color-fitted-level-2);\n",
       "}\n",
       "\n",
       "/* Specification for estimator info (e.g. \"i\" and \"?\") */\n",
       "\n",
       "/* Common style for \"i\" and \"?\" */\n",
       "\n",
       ".sk-estimator-doc-link,\n",
       "a:link.sk-estimator-doc-link,\n",
       "a:visited.sk-estimator-doc-link {\n",
       "  float: right;\n",
       "  font-size: smaller;\n",
       "  line-height: 1em;\n",
       "  font-family: monospace;\n",
       "  background-color: var(--sklearn-color-background);\n",
       "  border-radius: 1em;\n",
       "  height: 1em;\n",
       "  width: 1em;\n",
       "  text-decoration: none !important;\n",
       "  margin-left: 1ex;\n",
       "  /* unfitted */\n",
       "  border: var(--sklearn-color-unfitted-level-1) 1pt solid;\n",
       "  color: var(--sklearn-color-unfitted-level-1);\n",
       "}\n",
       "\n",
       ".sk-estimator-doc-link.fitted,\n",
       "a:link.sk-estimator-doc-link.fitted,\n",
       "a:visited.sk-estimator-doc-link.fitted {\n",
       "  /* fitted */\n",
       "  border: var(--sklearn-color-fitted-level-1) 1pt solid;\n",
       "  color: var(--sklearn-color-fitted-level-1);\n",
       "}\n",
       "\n",
       "/* On hover */\n",
       "div.sk-estimator:hover .sk-estimator-doc-link:hover,\n",
       ".sk-estimator-doc-link:hover,\n",
       "div.sk-label-container:hover .sk-estimator-doc-link:hover,\n",
       ".sk-estimator-doc-link:hover {\n",
       "  /* unfitted */\n",
       "  background-color: var(--sklearn-color-unfitted-level-3);\n",
       "  color: var(--sklearn-color-background);\n",
       "  text-decoration: none;\n",
       "}\n",
       "\n",
       "div.sk-estimator.fitted:hover .sk-estimator-doc-link.fitted:hover,\n",
       ".sk-estimator-doc-link.fitted:hover,\n",
       "div.sk-label-container:hover .sk-estimator-doc-link.fitted:hover,\n",
       ".sk-estimator-doc-link.fitted:hover {\n",
       "  /* fitted */\n",
       "  background-color: var(--sklearn-color-fitted-level-3);\n",
       "  color: var(--sklearn-color-background);\n",
       "  text-decoration: none;\n",
       "}\n",
       "\n",
       "/* Span, style for the box shown on hovering the info icon */\n",
       ".sk-estimator-doc-link span {\n",
       "  display: none;\n",
       "  z-index: 9999;\n",
       "  position: relative;\n",
       "  font-weight: normal;\n",
       "  right: .2ex;\n",
       "  padding: .5ex;\n",
       "  margin: .5ex;\n",
       "  width: min-content;\n",
       "  min-width: 20ex;\n",
       "  max-width: 50ex;\n",
       "  color: var(--sklearn-color-text);\n",
       "  box-shadow: 2pt 2pt 4pt #999;\n",
       "  /* unfitted */\n",
       "  background: var(--sklearn-color-unfitted-level-0);\n",
       "  border: .5pt solid var(--sklearn-color-unfitted-level-3);\n",
       "}\n",
       "\n",
       ".sk-estimator-doc-link.fitted span {\n",
       "  /* fitted */\n",
       "  background: var(--sklearn-color-fitted-level-0);\n",
       "  border: var(--sklearn-color-fitted-level-3);\n",
       "}\n",
       "\n",
       ".sk-estimator-doc-link:hover span {\n",
       "  display: block;\n",
       "}\n",
       "\n",
       "/* \"?\"-specific style due to the `<a>` HTML tag */\n",
       "\n",
       "#sk-container-id-13 a.estimator_doc_link {\n",
       "  float: right;\n",
       "  font-size: 1rem;\n",
       "  line-height: 1em;\n",
       "  font-family: monospace;\n",
       "  background-color: var(--sklearn-color-background);\n",
       "  border-radius: 1rem;\n",
       "  height: 1rem;\n",
       "  width: 1rem;\n",
       "  text-decoration: none;\n",
       "  /* unfitted */\n",
       "  color: var(--sklearn-color-unfitted-level-1);\n",
       "  border: var(--sklearn-color-unfitted-level-1) 1pt solid;\n",
       "}\n",
       "\n",
       "#sk-container-id-13 a.estimator_doc_link.fitted {\n",
       "  /* fitted */\n",
       "  border: var(--sklearn-color-fitted-level-1) 1pt solid;\n",
       "  color: var(--sklearn-color-fitted-level-1);\n",
       "}\n",
       "\n",
       "/* On hover */\n",
       "#sk-container-id-13 a.estimator_doc_link:hover {\n",
       "  /* unfitted */\n",
       "  background-color: var(--sklearn-color-unfitted-level-3);\n",
       "  color: var(--sklearn-color-background);\n",
       "  text-decoration: none;\n",
       "}\n",
       "\n",
       "#sk-container-id-13 a.estimator_doc_link.fitted:hover {\n",
       "  /* fitted */\n",
       "  background-color: var(--sklearn-color-fitted-level-3);\n",
       "}\n",
       "</style><div id=\"sk-container-id-13\" class=\"sk-top-container\"><div class=\"sk-text-repr-fallback\"><pre>MultinomialNB(alpha=0.1)</pre><b>In a Jupyter environment, please rerun this cell to show the HTML representation or trust the notebook. <br />On GitHub, the HTML representation is unable to render, please try loading this page with nbviewer.org.</b></div><div class=\"sk-container\" hidden><div class=\"sk-item\"><div class=\"sk-estimator fitted sk-toggleable\"><input class=\"sk-toggleable__control sk-hidden--visually\" id=\"sk-estimator-id-13\" type=\"checkbox\" checked><label for=\"sk-estimator-id-13\" class=\"sk-toggleable__label fitted sk-toggleable__label-arrow fitted\">&nbsp;&nbsp;MultinomialNB<a class=\"sk-estimator-doc-link fitted\" rel=\"noreferrer\" target=\"_blank\" href=\"https://scikit-learn.org/1.4/modules/generated/sklearn.naive_bayes.MultinomialNB.html\">?<span>Documentation for MultinomialNB</span></a><span class=\"sk-estimator-doc-link fitted\">i<span>Fitted</span></span></label><div class=\"sk-toggleable__content fitted\"><pre>MultinomialNB(alpha=0.1)</pre></div> </div></div></div></div>"
      ],
      "text/plain": [
       "MultinomialNB(alpha=0.1)"
      ]
     },
     "execution_count": 333,
     "metadata": {},
     "output_type": "execute_result"
    }
   ],
   "source": [
    "X_train, X_test, y_train, y_test = train_test_split(X_data, target, test_size=0.2,  random_state=3, stratify=target)\n",
    "# Train a new model with the best parameters\n",
    "best_model = MultinomialNB(**best_params)\n",
    "best_model.fit(X_train, y_train)"
   ]
  },
  {
   "cell_type": "markdown",
   "metadata": {},
   "source": [
    "Also the classification report:"
   ]
  },
  {
   "cell_type": "code",
   "execution_count": 336,
   "metadata": {
    "scrolled": true
   },
   "outputs": [
    {
     "name": "stdout",
     "output_type": "stream",
     "text": [
      "Weighted F1-score: 0.5749\n",
      "              precision    recall  f1-score   support\n",
      "\n",
      "           2       0.64      0.88      0.74        24\n",
      "           3       1.00      0.00      0.00         1\n",
      "           4       0.44      0.44      0.44        16\n",
      "           6       1.00      0.00      0.00         1\n",
      "           7       1.00      0.00      0.00         1\n",
      "           9       0.38      0.52      0.44        23\n",
      "          11       1.00      0.00      0.00         5\n",
      "          13       0.86      0.66      0.74        64\n",
      "          14       0.62      0.77      0.69        30\n",
      "          16       1.00      0.00      0.00         1\n",
      "          17       1.00      0.00      0.00         2\n",
      "          99       0.39      0.40      0.39        35\n",
      "\n",
      "    accuracy                           0.59       203\n",
      "   macro avg       0.78      0.30      0.29       203\n",
      "weighted avg       0.64      0.59      0.57       203\n",
      "\n"
     ]
    }
   ],
   "source": [
    "y_pred = best_model.predict(X_test)\n",
    "f1_weighted = f1_score(y_test, y_pred, average='weighted', zero_division=0)\n",
    "print(f\"Weighted F1-score: {f1_weighted:.4f}\")\n",
    "print(classification_report(y_test, y_pred, zero_division=1))"
   ]
  },
  {
   "cell_type": "markdown",
   "metadata": {},
   "source": [
    "Next the confusion matrix:"
   ]
  },
  {
   "cell_type": "code",
   "execution_count": 339,
   "metadata": {},
   "outputs": [
    {
     "name": "stderr",
     "output_type": "stream",
     "text": [
      "C:\\Users\\stef4\\anaconda3\\Lib\\site-packages\\sklearn\\metrics\\_classification.py:1509: UndefinedMetricWarning: Precision is ill-defined and being set to 0.0 in labels with no predicted samples. Use `zero_division` parameter to control this behavior.\n",
      "  _warn_prf(average, modifier, f\"{metric.capitalize()} is\", len(result))\n",
      "C:\\Users\\stef4\\AppData\\Local\\Temp\\ipykernel_17212\\2181126367.py:42: UserWarning: This figure includes Axes that are not compatible with tight_layout, so results might be incorrect.\n",
      "  plt.tight_layout()\n"
     ]
    },
    {
     "data": {
      "image/png": "[encoded data removed]",
      "text/plain": [
       "<Figure size 1000x600 with 3 Axes>"
      ]
     },
     "metadata": {},
     "output_type": "display_data"
    }
   ],
   "source": [
    "categories = np.unique(y_train) \n",
    "\n",
    "y_pred = y_pred\n",
    "# Compute confusion matrix\n",
    "conf_matrix = np.round(confusion_matrix(y_test, y_pred, normalize=\"true\"),2)  # Normalized confusion matrix\n",
    "precision = precision_score(y_test, y_pred, average=None)  # Per-class precision\n",
    "recall = recall_score(y_test, y_pred, average=None)        # Per-class recall\n",
    "\n",
    "# Plot the main confusion matrix\n",
    "fig, ax = plt.subplots(figsize=(10, 6))\n",
    "sns.heatmap(\n",
    "    conf_matrix, \n",
    "    annot=True, \n",
    "    cmap=\"rocket\", \n",
    "    cbar_kws={'label': 'Proportion'}, \n",
    "    xticklabels=categories, \n",
    "    yticklabels=categories,\n",
    "    ax=ax\n",
    ")\n",
    "#ax.set_xticklabels(ax.get_xticklabels(), rotation=45, ha=\"right\")\n",
    "ax.set_xlabel(\"Predicted\")\n",
    "ax.set_ylabel(\"Ground Truth\")\n",
    "ax.set_title(\"Confusion Matrix with Precision and Recall\")\n",
    "\n",
    "# Add precision and recall as a sidebar heatmap\n",
    "prec_rec = np.array([precision, recall]).T  # Shape (n_classes, 2)\n",
    "side_ax = ax.figure.add_axes([1, ax.get_position().y0 - 0.02, 0.1, ax.get_position().height + 0.085])  # Match size\n",
    "sns.heatmap(\n",
    "    prec_rec, \n",
    "    annot=True, \n",
    "    cmap=\"rocket\", \n",
    "    cbar=False, \n",
    "    xticklabels=[\"Precision\", \"Recall\"], \n",
    "    yticklabels=categories,\n",
    "    vmin=0, \n",
    "    vmax=1,\n",
    "    ax=side_ax\n",
    ")\n",
    "side_ax.set_xticklabels(side_ax.get_xticklabels(), rotation=45, ha=\"right\")\n",
    "side_ax.set_yticks([])  # Remove y-ticks to match visual style\n",
    "\n",
    "plt.tight_layout()\n",
    "plt.show()"
   ]
  },
  {
   "cell_type": "markdown",
   "metadata": {},
   "source": [
    "## Comparison with dummy model\n",
    "Next we create dummy classifier to see if our model brings some value. With parameter `stratified`, the classifier generates predictions by randomly sampling the classes in a way that respects the class distribution. For example, if the training set contains 70% of samples labeled as `0` and 30% labeled as `1`, the classifier will predict 0 approximately 70% of the time and 1 approximately 30% of the time:"
   ]
  },
  {
   "cell_type": "code",
   "execution_count": 342,
   "metadata": {
    "scrolled": true
   },
   "outputs": [
    {
     "name": "stdout",
     "output_type": "stream",
     "text": [
      "Weighted F1-score: 0.1759\n",
      "              precision    recall  f1-score   support\n",
      "\n",
      "           2       0.22      0.21      0.21        24\n",
      "           3       0.00      0.00      0.00         1\n",
      "           4       0.07      0.12      0.09        16\n",
      "           6       0.00      0.00      0.00         1\n",
      "           7       0.00      0.00      0.00         1\n",
      "           9       0.06      0.04      0.05        23\n",
      "          11       0.00      0.00      0.00         5\n",
      "          13       0.32      0.30      0.31        64\n",
      "          14       0.15      0.13      0.14        30\n",
      "          16       0.00      0.00      0.00         1\n",
      "          17       1.00      0.00      0.00         2\n",
      "          99       0.11      0.11      0.11        35\n",
      "\n",
      "    accuracy                           0.17       203\n",
      "   macro avg       0.16      0.08      0.08       203\n",
      "weighted avg       0.19      0.17      0.18       203\n",
      "\n"
     ]
    }
   ],
   "source": [
    "dummy_clf = DummyClassifier(strategy=\"stratified\")\n",
    "dummy_clf.fit(X_train, y_train)\n",
    "\n",
    "# Evaluate dummy classifier\n",
    "dummy_y_pred = dummy_clf.predict(X_test)\n",
    "f1_weighted = f1_score(y_test, dummy_y_pred, average='weighted', zero_division=0)\n",
    "print(f\"Weighted F1-score: {f1_weighted:.4f}\")\n",
    "print(classification_report(y_test, dummy_y_pred, zero_division=1))"
   ]
  },
  {
   "cell_type": "markdown",
   "metadata": {},
   "source": [
    "Also the cross validation scores:"
   ]
  },
  {
   "cell_type": "code",
   "execution_count": 345,
   "metadata": {},
   "outputs": [
    {
     "name": "stderr",
     "output_type": "stream",
     "text": [
      "C:\\Users\\stef4\\anaconda3\\Lib\\site-packages\\sklearn\\model_selection\\_split.py:737: UserWarning: The least populated class in y has only 4 members, which is less than n_splits=5.\n",
      "  warnings.warn(\n",
      "C:\\Users\\stef4\\anaconda3\\Lib\\site-packages\\sklearn\\model_selection\\_split.py:737: UserWarning: The least populated class in y has only 4 members, which is less than n_splits=5.\n",
      "  warnings.warn(\n"
     ]
    },
    {
     "name": "stdout",
     "output_type": "stream",
     "text": [
      "F1: 0.16327604157871778\n",
      "St Dev f1: 0.03870961102017974\n"
     ]
    },
    {
     "name": "stderr",
     "output_type": "stream",
     "text": [
      "C:\\Users\\stef4\\anaconda3\\Lib\\site-packages\\sklearn\\model_selection\\_split.py:737: UserWarning: The least populated class in y has only 4 members, which is less than n_splits=5.\n",
      "  warnings.warn(\n",
      "C:\\Users\\stef4\\anaconda3\\Lib\\site-packages\\sklearn\\model_selection\\_split.py:737: UserWarning: The least populated class in y has only 4 members, which is less than n_splits=5.\n",
      "  warnings.warn(\n"
     ]
    },
    {
     "name": "stdout",
     "output_type": "stream",
     "text": [
      "Accuracy: 0.18693361947032142\n",
      "St Dev accuracy: 0.027874596498023367\n"
     ]
    }
   ],
   "source": [
    "print(\"F1:\", str(np.mean(cross_val_score(dummy_clf, X_data, target, cv=cv, scoring=f1_scorer))))\n",
    "print(\"St Dev f1:\", str(np.std(cross_val_score(dummy_clf, X_data, target, cv=cv, scoring=f1_scorer))))\n",
    "print(\"Accuracy:\", str(np.mean(cross_val_score(dummy_clf, X_data, target, cv=cv, scoring='accuracy'))))\n",
    "print(\"St Dev accuracy:\", str(np.std(cross_val_score(dummy_clf, X_data, target, cv=cv, scoring='accuracy'))))"
   ]
  },
  {
   "cell_type": "markdown",
   "metadata": {},
   "source": [
    "Also, the confusion matrix"
   ]
  },
  {
   "cell_type": "code",
   "execution_count": 350,
   "metadata": {},
   "outputs": [
    {
     "name": "stderr",
     "output_type": "stream",
     "text": [
      "C:\\Users\\stef4\\anaconda3\\Lib\\site-packages\\sklearn\\metrics\\_classification.py:1509: UndefinedMetricWarning: Precision is ill-defined and being set to 0.0 in labels with no predicted samples. Use `zero_division` parameter to control this behavior.\n",
      "  _warn_prf(average, modifier, f\"{metric.capitalize()} is\", len(result))\n",
      "C:\\Users\\stef4\\AppData\\Local\\Temp\\ipykernel_17212\\593516017.py:41: UserWarning: This figure includes Axes that are not compatible with tight_layout, so results might be incorrect.\n",
      "  plt.tight_layout()\n"
     ]
    },
    {
     "data": {
      "image/png": "[encoded data removed]",
      "text/plain": [
       "<Figure size 1000x600 with 3 Axes>"
      ]
     },
     "metadata": {},
     "output_type": "display_data"
    }
   ],
   "source": [
    "categories = np.unique(y_train) \n",
    "\n",
    "y_pred = dummy_y_pred\n",
    "# Compute confusion matrix\n",
    "conf_matrix = np.round(confusion_matrix(y_test, y_pred, normalize=\"true\"),2)  # Normalized confusion matrix\n",
    "precision = precision_score(y_test, y_pred, average=None)  # Per-class precision\n",
    "recall = recall_score(y_test, y_pred, average=None)        # Per-class recall\n",
    "\n",
    "# Plot the main confusion matrix\n",
    "fig, ax = plt.subplots(figsize=(10, 6))\n",
    "sns.heatmap(\n",
    "    conf_matrix, \n",
    "    annot=True, \n",
    "    cmap=\"rocket\", \n",
    "    cbar_kws={'label': 'Proportion'}, \n",
    "    xticklabels=categories, \n",
    "    yticklabels=categories,\n",
    "    ax=ax\n",
    ")\n",
    "ax.set_xlabel(\"Predicted\")\n",
    "ax.set_ylabel(\"Ground Truth\")\n",
    "ax.set_title(\"Confusion Matrix with Precision and Recall\")\n",
    "\n",
    "# Add precision and recall as a sidebar heatmap\n",
    "prec_rec = np.array([precision, recall]).T  # Shape (n_classes, 2)\n",
    "side_ax = ax.figure.add_axes([1, ax.get_position().y0 - 0.02, 0.1, ax.get_position().height + 0.085])  # Match size\n",
    "sns.heatmap(\n",
    "    prec_rec, \n",
    "    annot=True, \n",
    "    cmap=\"rocket\", \n",
    "    cbar=False, \n",
    "    xticklabels=[\"Precision\", \"Recall\"], \n",
    "    yticklabels=categories,\n",
    "    vmin=0, \n",
    "    vmax=1,\n",
    "    ax=side_ax\n",
    ")\n",
    "side_ax.set_xticklabels(side_ax.get_xticklabels(), rotation=20, ha=\"right\")\n",
    "side_ax.set_yticks([])  # Remove y-ticks to match visual style\n",
    "\n",
    "plt.tight_layout()\n",
    "plt.show()"
   ]
  }
 ],
 "metadata": {
  "kernelspec": {
   "display_name": "Python 3 (ipykernel)",
   "language": "python",
   "name": "python3"
  },
  "language_info": {
   "codemirror_mode": {
    "name": "ipython",
    "version": 3
   },
   "file_extension": ".py",
   "mimetype": "text/x-python",
   "name": "python",
   "nbconvert_exporter": "python",
   "pygments_lexer": "ipython3",
   "version": "3.12.4"
  }
 },
 "nbformat": 4,
 "nbformat_minor": 4
}
